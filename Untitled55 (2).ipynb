{
 "cells": [
  {
   "cell_type": "code",
   "execution_count": null,
   "id": "545d8507-8d65-41a9-851e-0e6a3a851bf9",
   "metadata": {},
   "outputs": [],
   "source": [
    "#Hello Blessing world"
   ]
  },
  {
   "cell_type": "code",
   "execution_count": 2,
   "id": "37e3dc70-b216-401d-9b2d-db62230c8404",
   "metadata": {},
   "outputs": [
    {
     "name": "stdout",
     "output_type": "stream",
     "text": [
      "Hello blessing world\n"
     ]
    }
   ],
   "source": [
    "print(\"Hello blessing world\")"
   ]
  },
  {
   "cell_type": "code",
   "execution_count": 3,
   "id": "843e629f-5b39-4bcf-80c4-148830fd63fd",
   "metadata": {},
   "outputs": [
    {
     "name": "stdout",
     "output_type": "stream",
     "text": [
      "The length of the list is: 8\n"
     ]
    }
   ],
   "source": [
    "my_list = [1, 2, 3, 4, 5, 6, 7, 8]\n",
    "new_list = []\n",
    "\n",
    "for numbers in range(len(my_list)):\n",
    "    new_list.append(numbers)\n",
    "\n",
    "print(\"The length of the list is:\", len(my_list))  # Correctly prints the length of the list\n"
   ]
  },
  {
   "cell_type": "code",
   "execution_count": 5,
   "id": "c9793242-cc22-4269-9432-eb75209ee1e8",
   "metadata": {},
   "outputs": [
    {
     "name": "stdout",
     "output_type": "stream",
     "text": [
      "The length of the list is: 8\n"
     ]
    }
   ],
   "source": [
    "my_list = [1,2,3,4,5,6,7,8]\n",
    "new_list = []\n",
    "\n",
    "\n",
    "for numbers in range(len(my_list)):\n",
    "    new_list.append(numbers)\n",
    "    \n",
    "print(\"The length of the list is:\", len(new_list))"
   ]
  },
  {
   "cell_type": "code",
   "execution_count": 6,
   "id": "e494ee54-63f0-4712-9c93-cc16892a1d6f",
   "metadata": {},
   "outputs": [
    {
     "name": "stdout",
     "output_type": "stream",
     "text": [
      "The length of the list is: 8\n",
      "The new list is: [0, 1, 2, 3, 4, 5, 6, 7]\n"
     ]
    }
   ],
   "source": [
    "my_list = [1, 2, 3, 4, 5, 6, 7, 8]\n",
    "new_list = []\n",
    "\n",
    "# Find the length without using len()\n",
    "length = 0\n",
    "for _ in my_list:\n",
    "    length += 1\n",
    "\n",
    "print(\"The length of the list is:\", length)\n",
    "\n",
    "# Filling the new_list\n",
    "for numbers in range(length):\n",
    "    new_list.append(numbers)\n",
    "\n",
    "print(\"The new list is:\", new_list)\n"
   ]
  },
  {
   "cell_type": "code",
   "execution_count": 7,
   "id": "52355f45-7e4f-4a31-9530-94ce557d699d",
   "metadata": {},
   "outputs": [
    {
     "ename": "SyntaxError",
     "evalue": "invalid syntax (3002723269.py, line 1)",
     "output_type": "error",
     "traceback": [
      "\u001b[1;36m  Cell \u001b[1;32mIn[7], line 1\u001b[1;36m\u001b[0m\n\u001b[1;33m    echo \"# length-without-built-in-function\" >> README.md\u001b[0m\n\u001b[1;37m         ^\u001b[0m\n\u001b[1;31mSyntaxError\u001b[0m\u001b[1;31m:\u001b[0m invalid syntax\n"
     ]
    }
   ],
   "source": [
    "echo \"# length-without-built-in-function\" >> README.md\n",
    "git init\n",
    "git add README.md\n",
    "git commit -m \"first commit\"\n",
    "git branch -M main\n",
    "git remote add origin https://github.com/Umer-Hakim/length-without-built-in-function.git\n",
    "git push -u origin main"
   ]
  },
  {
   "cell_type": "code",
   "execution_count": 8,
   "id": "3c673bed-ca29-4b19-9401-89ecf08005d3",
   "metadata": {},
   "outputs": [
    {
     "name": "stdout",
     "output_type": "stream",
     "text": [
      "The length of the list is : 8\n"
     ]
    }
   ],
   "source": [
    "my_list = [1,2,3,4,5,6,7,8]\n",
    "\n",
    "\n",
    "length = 0\n",
    "\n",
    "for numbers in my_list:\n",
    "    length = length + 1\n",
    "    \n",
    "print(\"The length of the list is :\", length)"
   ]
  },
  {
   "cell_type": "code",
   "execution_count": null,
   "id": "e779c07c-f238-424e-8a68-dd2488713b70",
   "metadata": {},
   "outputs": [],
   "source": []
  }
 ],
 "metadata": {
  "kernelspec": {
   "display_name": "Python 3 (ipykernel)",
   "language": "python",
   "name": "python3"
  },
  "language_info": {
   "codemirror_mode": {
    "name": "ipython",
    "version": 3
   },
   "file_extension": ".py",
   "mimetype": "text/x-python",
   "name": "python",
   "nbconvert_exporter": "python",
   "pygments_lexer": "ipython3",
   "version": "3.12.7"
  }
 },
 "nbformat": 4,
 "nbformat_minor": 5
}
