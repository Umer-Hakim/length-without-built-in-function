{
 "cells": [
  {
   "cell_type": "code",
   "execution_count": null,
   "id": "591c1f5a-e3ac-4f30-98a9-52054d82995d",
   "metadata": {
    "vscode": {
     "languageId": "python"
    }
   },
   "outputs": [],
   "source": []
  }
 ],
 "metadata": {
  "kernelspec": {
   "display_name": "",
   "name": ""
  },
  "language_info": {
   "name": ""
  }
 },
 "nbformat": 4,
 "nbformat_minor": 5
}
