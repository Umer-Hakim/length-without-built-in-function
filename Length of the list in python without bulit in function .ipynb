{
 "cells": [
  {
   "cell_type": "code",
   "execution_count": null,
   "id": "591c1f5a-e3ac-4f30-98a9-52054d82995d",
   "metadata": {
    "vscode": {
     "languageId": "python"
    }
   },
   "outputs": [],
   "source": [
    "my_list = [1,2,3,4,5,6,7,8]\n",
    "\n",
    "\n",
    "length = 0\n",
    "\n",
    "for numbers in my_list:\n",
    "    length = length + 1\n",
    "    \n",
    "print(\"The length of the list is :\", length)"
   ]
  }
 ],
 "metadata": {
  "kernelspec": {
   "display_name": "",
   "name": ""
  },
  "language_info": {
   "name": ""
  }
 },
 "nbformat": 4,
 "nbformat_minor": 5
}
